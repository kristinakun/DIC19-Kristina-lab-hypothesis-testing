{
 "cells": [
  {
   "cell_type": "markdown",
   "metadata": {},
   "source": [
    "# Challenge 1\n",
    "We want to estimate the average size of the men of a country with a confidence level of 80%. Assuming that the standard deviation of the sizes in the population is 4, get the confidence interval with a sample of men selected randomly, whose heights are:\n",
    "~~~~\n",
    "heights = [167, 167, 168, 168, 168, 169, 171, 172, 173, 175, 175, 175, 177, 182, 195]\n",
    "~~~~"
   ]
  },
  {
   "cell_type": "code",
   "execution_count": 1,
   "metadata": {
    "ExecuteTime": {
     "end_time": "2020-03-20T17:19:20.615773Z",
     "start_time": "2020-03-20T17:19:18.141972Z"
    }
   },
   "outputs": [],
   "source": [
    "# Libraries\n",
    "import scipy;\n",
    "from scipy import stats;\n",
    "import numpy as np;\n",
    "import math;\n",
    "import seaborn as sns;\n",
    "import matplotlib.pyplot as plt"
   ]
  },
  {
   "cell_type": "code",
   "execution_count": 2,
   "metadata": {
    "ExecuteTime": {
     "end_time": "2020-03-20T17:19:20.624192Z",
     "start_time": "2020-03-20T17:19:20.618968Z"
    }
   },
   "outputs": [],
   "source": [
    "plt.rcParams['figure.figsize'] = [10, 8]"
   ]
  },
  {
   "cell_type": "code",
   "execution_count": 3,
   "metadata": {
    "ExecuteTime": {
     "end_time": "2020-03-20T17:19:20.640667Z",
     "start_time": "2020-03-20T17:19:20.626493Z"
    }
   },
   "outputs": [],
   "source": [
    "# We know that the height of people has a normal distribution N(μ,σ) with known σ.\n",
    "# Then, we know that the distribution of sample means is also normally distributed with the following parameters:\n",
    "\n",
    "# Variables\n",
    "sample = [167, 167, 168, 168, 168, 169, 171, 172, 173, 175, 175, 175, 177, 182, 195];\n",
    "pop_std = 4;\n",
    "score = stats.norm.interval(0.80)[1]\n",
    "\n",
    "# Parameters\n",
    "normal_mean = np.mean(sample);\n",
    "normal_std = pop_std / math.sqrt(len(sample));"
   ]
  },
  {
   "cell_type": "code",
   "execution_count": 4,
   "metadata": {
    "ExecuteTime": {
     "end_time": "2020-03-20T17:19:20.655690Z",
     "start_time": "2020-03-20T17:19:20.643113Z"
    }
   },
   "outputs": [
    {
     "name": "stdout",
     "output_type": "stream",
     "text": [
      "Confidence interval (80%): 172.07752526922508 - 174.85580806410826\n"
     ]
    }
   ],
   "source": [
    "# METHOD 1\n",
    "# Confidence interval\n",
    "\n",
    "confidence = 0.80\n",
    "\n",
    "n = len(sample) #sample size\n",
    "m = normal_mean #mean of samples\n",
    "std_err = stats.sem(sample)\n",
    "std = normal_std\n",
    "\n",
    "h = std * stats.t(n - 1).ppf((1 + confidence) / 2)\n",
    "\n",
    "start = m - h\n",
    "end = m + h\n",
    "\n",
    "print('Confidence interval ({:.0f}%): {} - {}'.format(confidence*100, start,end))"
   ]
  },
  {
   "cell_type": "code",
   "execution_count": 5,
   "metadata": {
    "ExecuteTime": {
     "end_time": "2020-03-20T17:19:20.955163Z",
     "start_time": "2020-03-20T17:19:20.656683Z"
    }
   },
   "outputs": [
    {
     "data": {
      "image/png": "[encoded data removed]",
      "text/plain": [
       "<Figure size 720x576 with 1 Axes>"
      ]
     },
     "metadata": {
      "needs_background": "light"
     },
     "output_type": "display_data"
    }
   ],
   "source": [
    "sns.distplot(sample, bins=10)\n",
    "plt.vlines([start, end], 0, 0.14, color='red')\n",
    "plt.show()\n"
   ]
  },
  {
   "cell_type": "code",
   "execution_count": 6,
   "metadata": {
    "ExecuteTime": {
     "end_time": "2020-03-20T17:19:20.967590Z",
     "start_time": "2020-03-20T17:19:20.956480Z"
    }
   },
   "outputs": [
    {
     "data": {
      "text/plain": [
       "(172.14308590115726, 174.79024743217607)"
      ]
     },
     "execution_count": 6,
     "metadata": {},
     "output_type": "execute_result"
    }
   ],
   "source": [
    "# METHOD 2\n",
    "# Confidence interval\n",
    "\n",
    "from scipy.stats import norm\n",
    "\n",
    "n = len(sample)\n",
    "con_coef=0.80\n",
    "\n",
    "#the alpha level\n",
    "alpha = 1 - con_coef\n",
    "\n",
    "x_bar = np.mean(sample) #the mean of sample\n",
    "sigma = 4\n",
    "\n",
    "# for 80%: 0.80+((1-0.80)/2) = 0.9\n",
    "z_critical = stats.norm.ppf(q = 0.9)\n",
    "\n",
    "zinterval = stats.norm.interval(alpha=con_coef)\n",
    "\n",
    "st_error = sigma / math.sqrt(n)\n",
    "\n",
    "CI_lower = x_bar - z_critical * st_error\n",
    "CI_upper = x_bar + z_critical * st_error\n",
    "\n",
    "CI_lower, CI_upper"
   ]
  },
  {
   "cell_type": "code",
   "execution_count": 7,
   "metadata": {
    "ExecuteTime": {
     "end_time": "2020-03-20T17:19:20.976522Z",
     "start_time": "2020-03-20T17:19:20.969584Z"
    }
   },
   "outputs": [
    {
     "data": {
      "text/plain": [
       "'With this sample size we are 80% sure that the population mean lies within the range of lower and upper limit.'"
      ]
     },
     "execution_count": 7,
     "metadata": {},
     "output_type": "execute_result"
    }
   ],
   "source": [
    "\"With this sample size we are 80% sure that the population mean lies within the range of lower and upper limit.\""
   ]
  },
  {
   "cell_type": "code",
   "execution_count": 8,
   "metadata": {
    "ExecuteTime": {
     "end_time": "2020-03-20T17:19:20.988344Z",
     "start_time": "2020-03-20T17:19:20.978690Z"
    }
   },
   "outputs": [
    {
     "data": {
      "text/plain": [
       "(172.08209514852345, 174.8512381848099)"
      ]
     },
     "execution_count": 8,
     "metadata": {},
     "output_type": "execute_result"
    }
   ],
   "source": [
    "#or like this:\n",
    "\n",
    "con_coef=0.80\n",
    "n = len(sample)\n",
    "ave = np.mean(sample)\n",
    "sigma = 4\n",
    "st_error = sigma / math.sqrt(n)\n",
    "\n",
    "scipy.stats.t.interval(con_coef , n, loc=ave, scale=st_error)"
   ]
  },
  {
   "cell_type": "markdown",
   "metadata": {},
   "source": [
    "# Challenge 2 \n",
    "In a sample of 105 shops selected randomly from an area, we note that 27 of them have had losses in this month. Get an confidence interval for the proportion of businesses in the area with losses, to a confidence level of 80% and a confidence level of 90%."
   ]
  },
  {
   "cell_type": "code",
   "execution_count": 9,
   "metadata": {
    "ExecuteTime": {
     "end_time": "2020-03-20T17:19:20.995553Z",
     "start_time": "2020-03-20T17:19:20.990675Z"
    }
   },
   "outputs": [],
   "source": [
    "# According to the Central Limit Theorem, we know that the distribution \n",
    "# of the sample proportion means is normally distributed with approximately the following parameters:\n",
    "\n",
    "# Variables \n",
    "total_shops = 105;\n",
    "loss_shops = 27;\n",
    "score_80 = stats.norm.interval(0.80)[1];\n",
    "score_90 = stats.norm.interval(0.90)[1];\n",
    "\n",
    "# Parameters\n",
    "prop = loss_shops / total_shops;\n",
    "prop_se = math.sqrt((prop * (1 - prop)) / total_shops);"
   ]
  },
  {
   "cell_type": "code",
   "execution_count": 10,
   "metadata": {
    "ExecuteTime": {
     "end_time": "2020-03-20T17:19:21.011944Z",
     "start_time": "2020-03-20T17:19:20.997309Z"
    }
   },
   "outputs": [
    {
     "name": "stdout",
     "output_type": "stream",
     "text": [
      "80% Lower confidence interval: 0.20248138545542083\n",
      "80% Upper confidence interval: 0.3118043288302934\n"
     ]
    }
   ],
   "source": [
    "# METHOD 1\n",
    "# Confidence interval 80%\n",
    "\n",
    "import statsmodels.stats.proportion as smp\n",
    "con_coef = 0.8\n",
    "\n",
    "lower, upper = smp.proportion_confint (27, 105, alpha=1-con_coef, method='normal')\n",
    "\n",
    "print ('80% Lower confidence interval:', lower)\n",
    "print ('80% Upper confidence interval:', upper)\n"
   ]
  },
  {
   "cell_type": "code",
   "execution_count": 11,
   "metadata": {
    "ExecuteTime": {
     "end_time": "2020-03-20T17:19:21.020144Z",
     "start_time": "2020-03-20T17:19:21.013289Z"
    }
   },
   "outputs": [
    {
     "name": "stdout",
     "output_type": "stream",
     "text": [
      "90% Lower confidence interval: 0.1869856177645281\n",
      "90% Upper confidence interval: 0.32730009652118613\n"
     ]
    }
   ],
   "source": [
    "# Confidence interval 90%\n",
    "\n",
    "import statsmodels.stats.proportion as smp\n",
    "con_coef = 0.9\n",
    "\n",
    "lower, upper = smp.proportion_confint (27, 105, alpha=1-con_coef, method='normal')\n",
    "\n",
    "print ('90% Lower confidence interval:', lower)\n",
    "print ('90% Upper confidence interval:', upper)"
   ]
  },
  {
   "cell_type": "code",
   "execution_count": 12,
   "metadata": {
    "ExecuteTime": {
     "end_time": "2020-03-20T17:19:21.027722Z",
     "start_time": "2020-03-20T17:19:21.023796Z"
    }
   },
   "outputs": [],
   "source": [
    "# METHOD 2\n",
    "# Confidence interval\n"
   ]
  },
  {
   "cell_type": "markdown",
   "metadata": {},
   "source": [
    "# Challenge 3 - To practice more\n",
    "For the same example in challenge 1, calculate a confidence interval for the variance at 90% level."
   ]
  },
  {
   "cell_type": "code",
   "execution_count": 13,
   "metadata": {
    "ExecuteTime": {
     "end_time": "2020-03-20T17:19:21.037494Z",
     "start_time": "2020-03-20T17:19:21.029818Z"
    }
   },
   "outputs": [
    {
     "data": {
      "text/plain": [
       "(6.570631383789342, 23.684791304840576)"
      ]
     },
     "execution_count": 13,
     "metadata": {},
     "output_type": "execute_result"
    }
   ],
   "source": [
    "df = len(sample) - 1\n",
    "score = stats.chi2.interval(0.90, df)\n",
    "score"
   ]
  },
  {
   "cell_type": "code",
   "execution_count": 14,
   "metadata": {
    "ExecuteTime": {
     "end_time": "2020-03-20T17:19:21.055133Z",
     "start_time": "2020-03-20T17:19:21.040834Z"
    }
   },
   "outputs": [
    {
     "data": {
      "text/plain": [
       "(171.76786914556482, 175.16546418776852)"
      ]
     },
     "execution_count": 14,
     "metadata": {},
     "output_type": "execute_result"
    }
   ],
   "source": [
    "# As the height of men are independent and identically distributed random variables, \n",
    "# we can say that the variance of the heights has a confidence interval such that:\n",
    "\n",
    "# Variables\n",
    "df = len(sample) - 1\n",
    "score = stats.chi2.interval(0.90, df)\n",
    "\n",
    "# Parameters\n",
    "\n",
    "n = len(sample)\n",
    "con_coef=0.90\n",
    "\n",
    "#the alpha level\n",
    "alpha = 1 - con_coef\n",
    "\n",
    "x_bar = np.mean(sample) #the mean of sample\n",
    "sigma = 4\n",
    "\n",
    "# for 90%: 0.90+((1-0.90)/2) = 0.95\n",
    "z_critical = stats.norm.ppf(q = 0.95)\n",
    "\n",
    "zinterval = stats.norm.interval(alpha=con_coef)\n",
    "\n",
    "st_error = sigma / math.sqrt(n)\n",
    "\n",
    "# Confidence interval\n",
    "\n",
    "CI_lower = x_bar - z_critical * st_error\n",
    "CI_upper = x_bar + z_critical * st_error\n",
    "\n",
    "CI_lower, CI_upper"
   ]
  },
  {
   "cell_type": "markdown",
   "metadata": {},
   "source": [
    "# Challenge 4 - To practice more\n",
    "The sulfuric acid content of 7 similar containers is 9.8, 10.2, 10.4, 9.8, 10.0, 10.2 and 9.6 liters. Calculate a 95% confidence interval for the average content of all containers assuming an approximately normal distribution.\n",
    "\n",
    "\n"
   ]
  },
  {
   "cell_type": "code",
   "execution_count": 15,
   "metadata": {
    "ExecuteTime": {
     "end_time": "2020-03-20T17:19:21.063430Z",
     "start_time": "2020-03-20T17:19:21.057135Z"
    }
   },
   "outputs": [],
   "source": [
    "# According to the Fisher-Cochran Lemma, the distribution of the sample means for a \n",
    "# normal distribution N(μ,σ) with unknown σ has the following parameters:\n",
    "\n",
    "# Variables\n",
    "sample = [9.8, 10.2, 10.4, 9.8, 10.0, 10.2, 9.6];\n",
    "df = len(sample) - 1\n",
    "score = stats.t.interval(0.95, df)[1]\n",
    "\n",
    "# Parameters\n"
   ]
  },
  {
   "cell_type": "code",
   "execution_count": 16,
   "metadata": {
    "ExecuteTime": {
     "end_time": "2020-03-20T17:19:21.078047Z",
     "start_time": "2020-03-20T17:19:21.065926Z"
    }
   },
   "outputs": [],
   "source": [
    "# METHOD 1\n",
    "# Confidence interval\n",
    "import scipy.stats\n",
    "\n",
    "def mean_confidence_interval(data, confidence=0.95):\n",
    "    a = 1.0 * np.array(data)\n",
    "    n = len(a)\n",
    "    m, se = np.mean(a), scipy.stats.sem(a)\n",
    "    h = se * scipy.stats.t.ppf((1 + confidence) / 2., n-1)\n",
    "    return m-h, m+h"
   ]
  },
  {
   "cell_type": "code",
   "execution_count": 17,
   "metadata": {
    "ExecuteTime": {
     "end_time": "2020-03-20T17:19:21.090537Z",
     "start_time": "2020-03-20T17:19:21.081089Z"
    }
   },
   "outputs": [
    {
     "data": {
      "text/plain": [
       "(9.738414120176683, 10.261585879823317)"
      ]
     },
     "execution_count": 17,
     "metadata": {},
     "output_type": "execute_result"
    }
   ],
   "source": [
    "mean_confidence_interval(sample, confidence=0.95)"
   ]
  },
  {
   "cell_type": "code",
   "execution_count": 18,
   "metadata": {
    "ExecuteTime": {
     "end_time": "2020-03-20T17:19:21.098534Z",
     "start_time": "2020-03-20T17:19:21.094192Z"
    }
   },
   "outputs": [],
   "source": [
    "# METHOD 2\n",
    "# Confidence interval\n"
   ]
  },
  {
   "cell_type": "markdown",
   "metadata": {},
   "source": [
    "# Bonus challenge\n",
    "The error level or sampling error for the first challenge is given by the following expression:\n",
    "$$Error = z_{\\frac{\\alpha}{2}}\\frac{\\sigma}{\\sqrt n}$$\n",
    "Where z represents the value for N(0,1).\n",
    "\n",
    "\n",
    "Suppose that with the previous data in the challenge 1, and with a confidence level of\n",
    "99% (that is, almost certainly) we want to estimate the average population size, so that the error level committed is not greater than half a centimeter.\n",
    "\n",
    "i) Determine what size the selected sample of men should be."
   ]
  },
  {
   "cell_type": "code",
   "execution_count": 19,
   "metadata": {
    "ExecuteTime": {
     "end_time": "2020-03-20T17:19:21.111128Z",
     "start_time": "2020-03-20T17:19:21.101526Z"
    }
   },
   "outputs": [],
   "source": [
    "# Variables\n",
    "sample = [167, 167, 168, 168, 168, 169, 171, 172, 173, 175, 175, 175, 177, 182, 195];\n",
    "pop_std = 4;\n",
    "score = stats.norm.interval(0.99)[1]\n",
    "error = 0.5\n",
    "\n",
    "# Sample Size\n"
   ]
  },
  {
   "cell_type": "markdown",
   "metadata": {},
   "source": [
    "ii) For the second challenge, we have the following error:\n",
    "$$ Error = z_{\\frac{\\alpha}{2}}\\sqrt{\\frac{p\\times q}{n}} $$\n",
    "\n",
    "Determine the sample size required to not exceed an error of 1% with a confidence of 80%."
   ]
  },
  {
   "cell_type": "code",
   "execution_count": 20,
   "metadata": {
    "ExecuteTime": {
     "end_time": "2020-03-20T17:19:21.122383Z",
     "start_time": "2020-03-20T17:19:21.114121Z"
    }
   },
   "outputs": [],
   "source": [
    "# Variables \n",
    "total_shops = 105;\n",
    "loss_shops = 27;\n",
    "score = stats.norm.interval(0.80)[1];\n",
    "error = 0.01\n",
    "\n",
    "# Parameters\n",
    "\n",
    "\n",
    "# Sample Size\n"
   ]
  },
  {
   "cell_type": "markdown",
   "metadata": {},
   "source": [
    "# Bonus challenge"
   ]
  },
  {
   "cell_type": "markdown",
   "metadata": {},
   "source": [
    "Let's consider the following problem:\n",
    "\n",
    "Build a confidence interval of 94% for the real difference between the durations of two brands of spotlights, if a sample of 40 spotlights taken randomly from the first mark gave an average duration of 418 hours, and a sample of 50 bulbs of another brand gave a duration average of 402 hours. The standard deviations of the two\n",
    "populations are 26 hours and 22 hours, respectively.\n",
    "\n",
    "Sometimes, we will be interested in the difference of two different groups of random variables. We can also build a confidence interval for that! We have some different cases regarding the variance but for this specific case (the variance are different and known), we have that:\n",
    "\n",
    "$$\\overline{X} - \\overline{Y}  \\sim N(\\mu_{X} - \\mu_{Y} , \\sqrt{\\frac{\\sigma_{X}^2}{n_X}+\\frac{\\sigma_{Y}^2}{n_Y}})$$\n",
    "\n",
    "Solve the problem with this information."
   ]
  },
  {
   "cell_type": "code",
   "execution_count": 21,
   "metadata": {
    "ExecuteTime": {
     "end_time": "2020-03-20T17:19:21.134211Z",
     "start_time": "2020-03-20T17:19:21.125375Z"
    }
   },
   "outputs": [],
   "source": [
    "# Variables\n",
    "score = stats.norm.interval(0.94)[1]\n",
    "\n",
    "# Sample 1\n",
    "size_s1 = 40;\n",
    "avg_time_s1 = 418;\n",
    "std_time_s1 = 26;\n",
    "\n",
    "# Sample 2\n",
    "size_s2 = 50;\n",
    "avg_time_s2 = 402;\n",
    "std_time_s2 = 22;\n",
    "\n",
    "# Parameters\n"
   ]
  },
  {
   "cell_type": "code",
   "execution_count": 22,
   "metadata": {
    "ExecuteTime": {
     "end_time": "2020-03-20T17:19:21.141937Z",
     "start_time": "2020-03-20T17:19:21.136236Z"
    }
   },
   "outputs": [],
   "source": [
    "# METHOD 1\n",
    "# Confidence interval\n"
   ]
  },
  {
   "cell_type": "code",
   "execution_count": 23,
   "metadata": {
    "ExecuteTime": {
     "end_time": "2020-03-20T17:19:21.146686Z",
     "start_time": "2020-03-20T17:19:21.144512Z"
    }
   },
   "outputs": [],
   "source": [
    "# METHOD 2\n",
    "# Confidence interval\n"
   ]
  }
 ],
 "metadata": {
  "kernelspec": {
   "display_name": "Python 3",
   "language": "python",
   "name": "python3"
  },
  "language_info": {
   "codemirror_mode": {
    "name": "ipython",
    "version": 3
   },
   "file_extension": ".py",
   "mimetype": "text/x-python",
   "name": "python",
   "nbconvert_exporter": "python",
   "pygments_lexer": "ipython3",
   "version": "3.7.4"
  },
  "toc": {
   "base_numbering": 1,
   "nav_menu": {},
   "number_sections": true,
   "sideBar": true,
   "skip_h1_title": false,
   "title_cell": "Table of Contents",
   "title_sidebar": "Contents",
   "toc_cell": false,
   "toc_position": {},
   "toc_section_display": true,
   "toc_window_display": false
  },
  "varInspector": {
   "cols": {
    "lenName": 16,
    "lenType": 16,
    "lenVar": 40
   },
   "kernels_config": {
    "python": {
     "delete_cmd_postfix": "",
     "delete_cmd_prefix": "del ",
     "library": "var_list.py",
     "varRefreshCmd": "print(var_dic_list())"
    },
    "r": {
     "delete_cmd_postfix": ") ",
     "delete_cmd_prefix": "rm(",
     "library": "var_list.r",
     "varRefreshCmd": "cat(var_dic_list()) "
    }
   },
   "types_to_exclude": [
    "module",
    "function",
    "builtin_function_or_method",
    "instance",
    "_Feature"
   ],
   "window_display": false
  }
 },
 "nbformat": 4,
 "nbformat_minor": 2
}
